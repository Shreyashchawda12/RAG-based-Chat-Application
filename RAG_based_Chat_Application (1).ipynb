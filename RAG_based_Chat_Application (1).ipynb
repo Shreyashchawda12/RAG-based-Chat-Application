{
  "nbformat": 4,
  "nbformat_minor": 0,
  "metadata": {
    "colab": {
      "provenance": []
    },
    "kernelspec": {
      "name": "python3",
      "display_name": "Python 3"
    },
    "language_info": {
      "name": "python"
    }
  },
  "cells": [
    {
      "cell_type": "code",
      "execution_count": 1,
      "metadata": {
        "colab": {
          "base_uri": "https://localhost:8080/"
        },
        "id": "1RHVyY85X8jG",
        "outputId": "f0e25e70-699c-4b69-f1f8-30b2b2b4e448"
      },
      "outputs": [
        {
          "output_type": "stream",
          "name": "stdout",
          "text": [
            "Requirement already satisfied: transformers in /usr/local/lib/python3.10/dist-packages (4.42.4)\n",
            "Requirement already satisfied: pinecone-client in /usr/local/lib/python3.10/dist-packages (5.0.0)\n",
            "Requirement already satisfied: sentence-transformers in /usr/local/lib/python3.10/dist-packages (3.0.1)\n",
            "Requirement already satisfied: filelock in /usr/local/lib/python3.10/dist-packages (from transformers) (3.15.4)\n",
            "Requirement already satisfied: huggingface-hub<1.0,>=0.23.2 in /usr/local/lib/python3.10/dist-packages (from transformers) (0.23.5)\n",
            "Requirement already satisfied: numpy<2.0,>=1.17 in /usr/local/lib/python3.10/dist-packages (from transformers) (1.25.2)\n",
            "Requirement already satisfied: packaging>=20.0 in /usr/local/lib/python3.10/dist-packages (from transformers) (24.1)\n",
            "Requirement already satisfied: pyyaml>=5.1 in /usr/local/lib/python3.10/dist-packages (from transformers) (6.0.1)\n",
            "Requirement already satisfied: regex!=2019.12.17 in /usr/local/lib/python3.10/dist-packages (from transformers) (2024.5.15)\n",
            "Requirement already satisfied: requests in /usr/local/lib/python3.10/dist-packages (from transformers) (2.31.0)\n",
            "Requirement already satisfied: safetensors>=0.4.1 in /usr/local/lib/python3.10/dist-packages (from transformers) (0.4.3)\n",
            "Requirement already satisfied: tokenizers<0.20,>=0.19 in /usr/local/lib/python3.10/dist-packages (from transformers) (0.19.1)\n",
            "Requirement already satisfied: tqdm>=4.27 in /usr/local/lib/python3.10/dist-packages (from transformers) (4.66.4)\n",
            "Requirement already satisfied: certifi>=2019.11.17 in /usr/local/lib/python3.10/dist-packages (from pinecone-client) (2024.7.4)\n",
            "Requirement already satisfied: pinecone-plugin-inference==1.0.2 in /usr/local/lib/python3.10/dist-packages (from pinecone-client) (1.0.2)\n",
            "Requirement already satisfied: pinecone-plugin-interface<0.0.8,>=0.0.7 in /usr/local/lib/python3.10/dist-packages (from pinecone-client) (0.0.7)\n",
            "Requirement already satisfied: typing-extensions>=3.7.4 in /usr/local/lib/python3.10/dist-packages (from pinecone-client) (4.12.2)\n",
            "Requirement already satisfied: urllib3>=1.26.0 in /usr/local/lib/python3.10/dist-packages (from pinecone-client) (2.0.7)\n",
            "Requirement already satisfied: torch>=1.11.0 in /usr/local/lib/python3.10/dist-packages (from sentence-transformers) (2.3.1+cu121)\n",
            "Requirement already satisfied: scikit-learn in /usr/local/lib/python3.10/dist-packages (from sentence-transformers) (1.2.2)\n",
            "Requirement already satisfied: scipy in /usr/local/lib/python3.10/dist-packages (from sentence-transformers) (1.11.4)\n",
            "Requirement already satisfied: Pillow in /usr/local/lib/python3.10/dist-packages (from sentence-transformers) (9.4.0)\n",
            "Requirement already satisfied: fsspec>=2023.5.0 in /usr/local/lib/python3.10/dist-packages (from huggingface-hub<1.0,>=0.23.2->transformers) (2023.6.0)\n",
            "Requirement already satisfied: sympy in /usr/local/lib/python3.10/dist-packages (from torch>=1.11.0->sentence-transformers) (1.13.1)\n",
            "Requirement already satisfied: networkx in /usr/local/lib/python3.10/dist-packages (from torch>=1.11.0->sentence-transformers) (3.3)\n",
            "Requirement already satisfied: jinja2 in /usr/local/lib/python3.10/dist-packages (from torch>=1.11.0->sentence-transformers) (3.1.4)\n",
            "Requirement already satisfied: nvidia-cuda-nvrtc-cu12==12.1.105 in /usr/local/lib/python3.10/dist-packages (from torch>=1.11.0->sentence-transformers) (12.1.105)\n",
            "Requirement already satisfied: nvidia-cuda-runtime-cu12==12.1.105 in /usr/local/lib/python3.10/dist-packages (from torch>=1.11.0->sentence-transformers) (12.1.105)\n",
            "Requirement already satisfied: nvidia-cuda-cupti-cu12==12.1.105 in /usr/local/lib/python3.10/dist-packages (from torch>=1.11.0->sentence-transformers) (12.1.105)\n",
            "Requirement already satisfied: nvidia-cudnn-cu12==8.9.2.26 in /usr/local/lib/python3.10/dist-packages (from torch>=1.11.0->sentence-transformers) (8.9.2.26)\n",
            "Requirement already satisfied: nvidia-cublas-cu12==12.1.3.1 in /usr/local/lib/python3.10/dist-packages (from torch>=1.11.0->sentence-transformers) (12.1.3.1)\n",
            "Requirement already satisfied: nvidia-cufft-cu12==11.0.2.54 in /usr/local/lib/python3.10/dist-packages (from torch>=1.11.0->sentence-transformers) (11.0.2.54)\n",
            "Requirement already satisfied: nvidia-curand-cu12==10.3.2.106 in /usr/local/lib/python3.10/dist-packages (from torch>=1.11.0->sentence-transformers) (10.3.2.106)\n",
            "Requirement already satisfied: nvidia-cusolver-cu12==11.4.5.107 in /usr/local/lib/python3.10/dist-packages (from torch>=1.11.0->sentence-transformers) (11.4.5.107)\n",
            "Requirement already satisfied: nvidia-cusparse-cu12==12.1.0.106 in /usr/local/lib/python3.10/dist-packages (from torch>=1.11.0->sentence-transformers) (12.1.0.106)\n",
            "Requirement already satisfied: nvidia-nccl-cu12==2.20.5 in /usr/local/lib/python3.10/dist-packages (from torch>=1.11.0->sentence-transformers) (2.20.5)\n",
            "Requirement already satisfied: nvidia-nvtx-cu12==12.1.105 in /usr/local/lib/python3.10/dist-packages (from torch>=1.11.0->sentence-transformers) (12.1.105)\n",
            "Requirement already satisfied: triton==2.3.1 in /usr/local/lib/python3.10/dist-packages (from torch>=1.11.0->sentence-transformers) (2.3.1)\n",
            "Requirement already satisfied: nvidia-nvjitlink-cu12 in /usr/local/lib/python3.10/dist-packages (from nvidia-cusolver-cu12==11.4.5.107->torch>=1.11.0->sentence-transformers) (12.5.82)\n",
            "Requirement already satisfied: charset-normalizer<4,>=2 in /usr/local/lib/python3.10/dist-packages (from requests->transformers) (3.3.2)\n",
            "Requirement already satisfied: idna<4,>=2.5 in /usr/local/lib/python3.10/dist-packages (from requests->transformers) (3.7)\n",
            "Requirement already satisfied: joblib>=1.1.1 in /usr/local/lib/python3.10/dist-packages (from scikit-learn->sentence-transformers) (1.4.2)\n",
            "Requirement already satisfied: threadpoolctl>=2.0.0 in /usr/local/lib/python3.10/dist-packages (from scikit-learn->sentence-transformers) (3.5.0)\n",
            "Requirement already satisfied: MarkupSafe>=2.0 in /usr/local/lib/python3.10/dist-packages (from jinja2->torch>=1.11.0->sentence-transformers) (2.1.5)\n",
            "Requirement already satisfied: mpmath<1.4,>=1.1.0 in /usr/local/lib/python3.10/dist-packages (from sympy->torch>=1.11.0->sentence-transformers) (1.3.0)\n"
          ]
        }
      ],
      "source": [
        "!pip install transformers pinecone-client sentence-transformers\n",
        "!pip install --upgrade --quiet pinecone-client pinecone-text pinecone-notebooks"
      ]
    },
    {
      "cell_type": "code",
      "source": [
        "pinecone_api_key = '2fe780c8-c067-46f5-90cf-a77211c57445'\n",
        "PINECONE_CLOUD = 'aws'\n",
        "PINECONE_REGION = 'us-east-1'"
      ],
      "metadata": {
        "id": "j1YpeNpUcRel"
      },
      "execution_count": 2,
      "outputs": []
    },
    {
      "cell_type": "code",
      "source": [
        "history = [\n",
        "    \"1: User: Hi there! How are you doing today? | Bot: Hello! I'm doing great, thank you! How can I assist you today?\",\n",
        "    \"2: User: What's the weather like today in New York? | Bot: Today in New York, it's sunny with a slight chance of rain.\",\n",
        "    \"3: User: Great! Do you have any good lunch suggestions? | Bot: Sure! How about trying a new salad recipe?\",\n",
        "    \"4: User: That sounds healthy. Any specific recipes? | Bot: You could try a quinoa salad with avocado and chicken.\",\n",
        "    \"5: User: Sounds delicious! I'll try it. What about dinner? | Bot: For dinner, you could make grilled salmon with vegetables.\",\n",
        "    \"6: User: Thanks for the suggestions! Any dessert ideas? | Bot: How about a simple fruit salad or yogurt with honey?\",\n",
        "    \"7: User: Perfect! Now, what are some good exercises? | Bot: You can try a mix of cardio and strength training exercises.\",\n",
        "    \"8: User: Any specific recommendations for cardio? | Bot: Running, cycling, and swimming are all excellent cardio exercises.\",\n",
        "    \"9: User: I'll start with running. Can you recommend any books? |Bot: 'Atomic Habits' by James Clear is a highly recommended book.\",\n",
        "    \"10: User: I'll check it out. What hobbies can I take up? | Bot: You could explore painting, hiking, or learning a new instrument.\",\n",
        "    \"11: User: Hiking sounds fun! Any specific trails? | Bot: There aregreat trails in the Rockies and the Appalachian Mountains.\",\n",
        "    \"12: User: I'll plan a trip. What about indoor activities? | Bot: Indoor activities like reading, cooking, or playing board games.\",\n",
        "    \"13: User: Nice! Any good board games? | Bot: Settlers of Catan and Ticket to Ride are both excellent choices.\",\n",
        "    \"14: User: I'll try them out. Any movie recommendations? | Bot: 'Inception' and 'The Matrix' are must-watch movies.\",\n",
        "    \"15: User: I love those movies! Any TV shows? | Bot: 'Breaking Bad' and 'Stranger Things' are very popular.\",\n",
        "    \"16: User: Great choices! What about podcasts? | Bot: 'How I Built This' and 'The Daily' are very informative.\",\n",
        "    \"17: User: Thanks! What are some good travel destinations? | Bot: Paris, Tokyo, and Bali are amazing travel spots.\",\n",
        "    \"18: User: I'll add them to my list. Any packing tips? | Bot: Roll your clothes to save space and use packing cubes.\",\n",
        "    \"19: User: That's helpful! What about travel insurance? | Bot: Always get travel insurance for safety and peace of mind.\",\n",
        "    \"20: User: Thanks for the tips! Any last advice? | Bot: Just enjoy your journey and make the most out of your experiences.\"]\n"
      ],
      "metadata": {
        "id": "pXiDbj-D0vrR"
      },
      "execution_count": 3,
      "outputs": []
    },
    {
      "cell_type": "code",
      "source": [
        "from pinecone import Pinecone,ServerlessSpec\n",
        "import os\n",
        "from sentence_transformers import SentenceTransformer\n",
        "from transformers import AutoModelForCausalLM, AutoTokenizer\n",
        "import torch\n",
        "import warnings\n",
        "\n",
        "warnings.filterwarnings(\"ignore\")\n",
        "\n",
        "# Initialize Pinecone\n",
        "pc = Pinecone(pinecone_api_key)\n",
        "\n",
        "index_name = \"chat-history\"\n",
        "\n",
        "# Delete the index if it exists\n",
        "if index_name in pc.list_indexes():\n",
        "    pc.delete_index(index_name)\n",
        "\n",
        "if index_name not in pc.list_indexes().names():\n",
        "    pc.create_index(\n",
        "            name=index_name,\n",
        "            dimension=384,\n",
        "            metric='euclidean',\n",
        "            spec=ServerlessSpec(\n",
        "                cloud = PINECONE_CLOUD,\n",
        "                region = PINECONE_REGION\n",
        "            )\n",
        "        )\n",
        "\n",
        "# Connect to the index\n",
        "index = pc.Index(index_name)\n",
        "\n",
        "# Initialize the sentence transformer model for embeddings\n",
        "embedding_model = SentenceTransformer('paraphrase-MiniLM-L6-v2')\n",
        "\n",
        "# Initialize the text generation model and tokenizer\n",
        "model_name = 'gpt2'\n",
        "text_gen_model = AutoModelForCausalLM.from_pretrained(model_name)\n",
        "tokenizer = AutoTokenizer.from_pretrained(model_name)\n",
        "\n"
      ],
      "metadata": {
        "id": "7zSBiQx_YtQs"
      },
      "execution_count": 4,
      "outputs": []
    },
    {
      "cell_type": "code",
      "source": [
        "# Store conversation history embeddings in Pinecone\n",
        "for i, message in enumerate(history):\n",
        "    try:\n",
        "        embedding = embedding_model.encode(message).tolist()\n",
        "        index.upsert([(str(i), embedding)])\n",
        "    except Exception as e:\n",
        "        print(f\"Error upserting message {i}: {e}\")\n",
        "\n",
        "#  function to retrieve relevant messages\n",
        "def retrieve_relevant_messages(query, top_k=5):\n",
        "    try:\n",
        "        # Compute the query embedding\n",
        "        query_embedding = embedding_model.encode(query).tolist()\n",
        "\n",
        "        # Query Pinecone with keyword arguments\n",
        "        results = index.query(\n",
        "            vector=query_embedding,\n",
        "            top_k=top_k\n",
        "        )\n",
        "\n",
        "        # Extract relevant messages from the results\n",
        "        relevant_messages = [history[int(match['id'])] for match in results['matches']]\n",
        "        return relevant_messages\n",
        "    except Exception as e:\n",
        "        print(f\"Error retrieving relevant messages: {e}\")\n",
        "        return []\n",
        "\n",
        "\n"
      ],
      "metadata": {
        "id": "io3quJDHw5vi"
      },
      "execution_count": 5,
      "outputs": []
    },
    {
      "cell_type": "code",
      "source": [
        "def prepare_prompt(test_prompt, history, top_k=5, max_tokens=225):\n",
        "    \"\"\"\n",
        "\n",
        "    Args:\n",
        "      test_prompt:\n",
        "      history:\n",
        "      top_k:\n",
        "      max_tokens:\n",
        "\n",
        "    Returns:\n",
        "\n",
        "    \"\"\"\n",
        "    # Retrieve relevant messages\n",
        "    relevant_messages = retrieve_relevant_messages(test_prompt, top_k)\n",
        "\n",
        "    # Combine messages and test prompt\n",
        "    context = \" \".join(relevant_messages)\n",
        "    combined_prompt = f\"{context}\\nUser: {test_prompt}\\nBot:\"\n",
        "\n",
        "    # Ensure combined prompt does not exceed the maximum token limit\n",
        "    tokenized_prompt = tokenizer(combined_prompt, return_tensors='pt', truncation=True, max_length=max_tokens)\n",
        "    if tokenized_prompt['input_ids'].shape[1] > max_tokens:\n",
        "        combined_prompt = tokenizer.decode(tokenized_prompt['input_ids'][0, :max_tokens].tolist(), skip_special_tokens=True)\n",
        "\n",
        "    # Return the combined prompt and the context\n",
        "    return combined_prompt, context"
      ],
      "metadata": {
        "id": "LDakfwO_Axeg"
      },
      "execution_count": 6,
      "outputs": []
    },
    {
      "cell_type": "code",
      "source": [
        "final_test_prompt = \"Do you think it will help me stay fit?\"\n",
        "\n",
        "def test_final_prompt(final_test_prompt):\n",
        "    # Define the final test prompt\n",
        "\n",
        "\n",
        "    # Prepare the prompt using the prepare_prompt function\n",
        "    prepared_prompt, context_referred = prepare_prompt(final_test_prompt, history)\n",
        "\n",
        "    # Print the results\n",
        "    print(\"Final Test Prompt:\")\n",
        "    print(final_test_prompt)\n",
        "    print(\"\\nChat History Context Referenced:\")\n",
        "    print(context_referred)\n",
        "    print(\"\\nPrepared Prompt:\")\n",
        "    print(prepared_prompt)\n",
        "\n",
        "# Call the function to test\n",
        "test_final_prompt(final_test_prompt)\n"
      ],
      "metadata": {
        "colab": {
          "base_uri": "https://localhost:8080/"
        },
        "id": "Xye0Y-lUGvBh",
        "outputId": "ce2eceb6-514e-46e5-d3d9-d48c723750bc"
      },
      "execution_count": 8,
      "outputs": [
        {
          "output_type": "stream",
          "name": "stdout",
          "text": [
            "Final Test Prompt:\n",
            "Do you think it will help me stay fit?\n",
            "\n",
            "Chat History Context Referenced:\n",
            "7: User: Perfect! Now, what are some good exercises? | Bot: You can try a mix of cardio and strength training exercises. 20: User: Thanks for the tips! Any last advice? | Bot: Just enjoy your journey and make the most out of your experiences. 8: User: Any specific recommendations for cardio? | Bot: Running, cycling, and swimming are all excellent cardio exercises. 10: User: I'll check it out. What hobbies can I take up? | Bot: You could explore painting, hiking, or learning a new instrument. 4: User: That sounds healthy. Any specific recipes? | Bot: You could try a quinoa salad with avocado and chicken.\n",
            "\n",
            "Prepared Prompt:\n",
            "7: User: Perfect! Now, what are some good exercises? | Bot: You can try a mix of cardio and strength training exercises. 20: User: Thanks for the tips! Any last advice? | Bot: Just enjoy your journey and make the most out of your experiences. 8: User: Any specific recommendations for cardio? | Bot: Running, cycling, and swimming are all excellent cardio exercises. 10: User: I'll check it out. What hobbies can I take up? | Bot: You could explore painting, hiking, or learning a new instrument. 4: User: That sounds healthy. Any specific recipes? | Bot: You could try a quinoa salad with avocado and chicken.\n",
            "User: Do you think it will help me stay fit?\n",
            "Bot:\n"
          ]
        }
      ]
    },
    {
      "cell_type": "code",
      "source": [],
      "metadata": {
        "id": "t6eFkfhQBHR-"
      },
      "execution_count": 8,
      "outputs": []
    }
  ]
}